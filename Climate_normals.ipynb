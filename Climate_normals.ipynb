{
 "cells": [
  {
   "cell_type": "code",
   "execution_count": 36,
   "metadata": {},
   "outputs": [],
   "source": [
    "# Load packages\n",
    "import numpy as np\n",
    "import xarray as xr\n",
    "from pathlib import Path\n",
    "import cftime\n",
    "import pandas as pd\n",
    "from matplotlib import pyplot as plt"
   ]
  },
  {
   "cell_type": "code",
   "execution_count": 22,
   "metadata": {},
   "outputs": [],
   "source": [
    "# Directory\n",
    "dir = '/home/p/peltier/mahdinia/scratch/wrf/MPIESM12HR_S37_na24_conus43-flk_2039/'\n",
    "# Test with one nc\n",
    "test = xr.open_dataset(dir+'wrfavg/wrfhydro_d01_monthly.nc',chunks={'time':-1},decode_times=False)\n",
    "# Modify time to datetime64\n",
    "test['time'] = pd.date_range(start='2039-01-01', periods=test.sizes['time'], freq='MS')"
   ]
  },
  {
   "cell_type": "code",
   "execution_count": 53,
   "metadata": {},
   "outputs": [],
   "source": [
    "# Compute monthly normals\n",
    "test_mon=test.groupby('time.month').mean('time').compute()"
   ]
  },
  {
   "cell_type": "code",
   "execution_count": 64,
   "metadata": {},
   "outputs": [
    {
     "data": {
      "text/plain": [
       "Data variables: (12/67)\n",
       "    ACSNOM              (month, south_north, west_east) float32 0.0 0.0 ... 0.0\n",
       "    ACSNOW              (month, south_north, west_east) float32 0.0 0.0 ... 0.0\n",
       "    GRAUPELNC           (month, south_north, west_east) float32 0.0 0.0 ... 0.0\n",
       "    ITIMESTEP           (month) float64 5.147e+06 5.177e+06 ... 5.628e+06\n",
       "    POTEVP              (month, south_north, west_east) float32 0.0 0.0 ... 0.0\n",
       "    RAINC               (month, south_north, west_east) float32 6.654e-07 ......\n",
       "    ...                  ...\n",
       "    MaxNetWaterFlux_5d  (month, south_north, west_east) float32 0.0 0.0 ... 0.0\n",
       "    MaxWaterForcing_5d  (month, south_north, west_east) float32 2.18e-06 ... ...\n",
       "    MinRAIN_5d          (month, south_north, west_east) float32 0.0 0.0 ... 0.0\n",
       "    MinNetPrecip_5d     (month, south_north, west_east) float32 -4.651e-05 .....\n",
       "    MinNetWaterFlux_5d  (month, south_north, west_east) float32 -4.651e-05 .....\n",
       "    MinWaterForcing_5d  (month, south_north, west_east) float32 0.0 0.0 ... 0.0"
      ]
     },
     "execution_count": 64,
     "metadata": {},
     "output_type": "execute_result"
    }
   ],
   "source": [
    "test_mon.data_vars"
   ]
  },
  {
   "cell_type": "code",
   "execution_count": 56,
   "metadata": {},
   "outputs": [],
   "source": [
    "test_mon.to_netcdf('test_mon.nc')"
   ]
  },
  {
   "cell_type": "code",
   "execution_count": null,
   "metadata": {},
   "outputs": [],
   "source": []
  }
 ],
 "metadata": {
  "kernelspec": {
   "display_name": "Python 3",
   "language": "python",
   "name": "python3"
  },
  "language_info": {
   "codemirror_mode": {
    "name": "ipython",
    "version": 3
   },
   "file_extension": ".py",
   "mimetype": "text/x-python",
   "name": "python",
   "nbconvert_exporter": "python",
   "pygments_lexer": "ipython3",
   "version": "3.8.5"
  }
 },
 "nbformat": 4,
 "nbformat_minor": 4
}
