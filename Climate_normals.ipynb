{
 "cells": [
  {
   "cell_type": "code",
   "execution_count": 1,
   "metadata": {},
   "outputs": [],
   "source": [
    "# Load packages\n",
    "import numpy as np\n",
    "import xarray as xr\n",
    "from pathlib import Path\n",
    "import cftime\n",
    "import pandas as pd\n",
    "from matplotlib import pyplot as plt\n",
    "import os, re"
   ]
  },
  {
   "cell_type": "code",
   "execution_count": 2,
   "metadata": {},
   "outputs": [],
   "source": [
    "# # Directory\n",
    "# dir_test = '/home/p/peltier/mahdinia/scratch/wrf/MPIESM12HR_S37_na24_conus43-flk_2039/'\n",
    "# # Test with one nc\n",
    "# test = xr.open_dataset(dir+'wrfavg/wrfhydro_d01_monthly.nc',chunks={'time':-1},decode_times=False)\n",
    "# # Modify time to datetime64\n",
    "# test['time'] = pd.date_range(start='2039-01-01', periods=test.sizes['time'], freq='MS')"
   ]
  },
  {
   "cell_type": "code",
   "execution_count": 3,
   "metadata": {},
   "outputs": [],
   "source": [
    "# # Compute monthly normals\n",
    "# test_mon=test.groupby('time.month').mean('time').compute()"
   ]
  },
  {
   "cell_type": "code",
   "execution_count": 53,
   "metadata": {},
   "outputs": [],
   "source": [
    "def climate_normals(dir_input,dir_ouput=None):\n",
    "# Info for function \n",
    "    \"\"\"\n",
    "    Function:Compute monthly normals and create netcdf \n",
    "             from monthly average data\n",
    "                \n",
    "    Input arguments: directories as strings\n",
    "    \n",
    "    Output Directory:<Current working directory>/<pararmeter>/\n",
    "                     monthly_norm_<start year>/\n",
    "                     by default unless specified otherwise\n",
    "    \n",
    "    Input data: monthly average netcdf with dask\n",
    "    \n",
    "    Output data: monthly normals netcdf with dask\n",
    "    \"\"\"\n",
    "# Extract input info\n",
    "# start year\n",
    "    start_year=dir_input[-5:-1]\n",
    "# parameter\n",
    "    par_start=dir_input.find('wrf/')+4\n",
    "    par_end=dir_input.find(start_year)-1\n",
    "    par=dir_input[par_start:par_end]\n",
    "    print(par,'start\\n')\n",
    "# Create output directory\n",
    "    if dir_ouput == None:\n",
    "# Use current working directory by default\n",
    "        cwd_start=os.getcwd().find('/home')\n",
    "        cwd=os.getcwd()\n",
    "        out_dir=os.path.join(cwd[cwd_start::],par+'/monthly_norm_'+start_year)\n",
    "    else:\n",
    "        out_dir=os.path.join(dir_ouput,par+'/monthly_norm_'+start_year)\n",
    "# Check if directory exists\n",
    "    if os.path.exists(out_dir)==False:\n",
    "        os.makedirs(out_dir)\n",
    "    else:\n",
    "        print('\\nDirectory exists\\n')\n",
    "# Open datasets with dask\n",
    "    raw_data={file.stem :xr.open_dataset(file,chunks={'time':-1},decode_times=False) for file in Path(dir_input).glob('wrfavg/*monthly.nc')}\n",
    "# Compute monthly normals\n",
    "    for key in raw_data.keys():\n",
    "# Check if file exists\n",
    "        if os.path.isfile(out_dir+'/'+key+'_mon_norm.nc'):\n",
    "            print(key,'File exists\\n')\n",
    "        else:\n",
    "            data=raw_data[key]\n",
    "            print('\\n',key,'start')\n",
    "# Convert time to datetime64\n",
    "            data['time'] = pd.date_range(start=start_year+'-01-01', periods=data.sizes['time'], freq='MS')\n",
    "            data_mon=data.groupby('time.month').mean('time')\n",
    "# Create netcdf for monthly normals\n",
    "            data_mon.to_netcdf(out_dir+'/'+key+'_mon_norm.nc')\n",
    "            print('done\\n')\n"
   ]
  },
  {
   "cell_type": "code",
   "execution_count": 54,
   "metadata": {},
   "outputs": [
    {
     "name": "stdout",
     "output_type": "stream",
     "text": [
      "Help on function climate_normals in module __main__:\n",
      "\n",
      "climate_normals(dir_input, dir_ouput=None)\n",
      "    Function:Compute monthly normals and create netcdf \n",
      "             from monthly average data\n",
      "                \n",
      "    Input arguments: directories as strings\n",
      "    \n",
      "    Output Directory:<Current working directory>/<pararmeter>/\n",
      "                     monthly_norm_<start year>/\n",
      "                     by default unless specified otherwise\n",
      "    \n",
      "    Input data: monthly average netcdf with dask\n",
      "    \n",
      "    Output data: monthly normals netcdf with dask\n",
      "\n"
     ]
    }
   ],
   "source": [
    "help(climate_normals)"
   ]
  },
  {
   "cell_type": "code",
   "execution_count": 55,
   "metadata": {},
   "outputs": [],
   "source": [
    "# Run all dirs\n",
    "dirs=[\n",
    "    '/home/p/peltier/mahdinia/scratch/wrf/MPIESM12HR_S37_na24_conus43-flk_2079/',\n",
    "#     '/home/p/peltier/mahdinia/scratch/wrf/MPIESM12HR_HS_na24_new43-flk_1979/',\n",
    "    '/home/p/peltier/mahdinia/scratch/wrf/MPIESM12HR_HS_na24_new43loc-flk_1979/'\n",
    "]"
   ]
  },
  {
   "cell_type": "code",
   "execution_count": 56,
   "metadata": {},
   "outputs": [
    {
     "name": "stdout",
     "output_type": "stream",
     "text": [
      "MPIESM12HR_S37_na24_conus43-flk start\n",
      "\n",
      "Directory exists\n",
      "\n",
      "wrfhydro_d01_monthly File exists\n",
      "\n",
      "wrflsm_d01_monthly File exists\n",
      "\n",
      "wrfsrfc_d01_monthly File exists\n",
      "\n",
      "wrfxtrm_d01_monthly File exists\n",
      "\n",
      "wrfrad_d01_monthly File exists\n",
      "\n",
      "\n",
      " /home/p/peltier/mahdinia/scratch/wrf/MPIESM12HR_S37_na24_conus43-flk_2079/ \n",
      "done\n",
      "MPIESM12HR_HS_na24_new43loc-flk start\n",
      "\n",
      "Directory exists\n",
      "\n",
      "wrfhydro_d01_monthly File exists\n",
      "\n",
      "wrflsm_d01_monthly File exists\n",
      "\n",
      "wrfsrfc_d01_monthly File exists\n",
      "\n",
      "wrfxtrm_d01_monthly File exists\n",
      "\n",
      "wrfrad_d01_monthly File exists\n",
      "\n",
      "\n",
      " /home/p/peltier/mahdinia/scratch/wrf/MPIESM12HR_HS_na24_new43loc-flk_1979/ \n",
      "done\n"
     ]
    }
   ],
   "source": [
    "for dir_a in dirs:\n",
    "    climate_normals(dir_a)\n",
    "    print('\\n',dir_a,'\\ndone')"
   ]
  },
  {
   "cell_type": "code",
   "execution_count": null,
   "metadata": {},
   "outputs": [],
   "source": []
  }
 ],
 "metadata": {
  "kernelspec": {
   "display_name": "Python 3",
   "language": "python",
   "name": "python3"
  },
  "language_info": {
   "codemirror_mode": {
    "name": "ipython",
    "version": 3
   },
   "file_extension": ".py",
   "mimetype": "text/x-python",
   "name": "python",
   "nbconvert_exporter": "python",
   "pygments_lexer": "ipython3",
   "version": "3.8.5"
  }
 },
 "nbformat": 4,
 "nbformat_minor": 4
}
