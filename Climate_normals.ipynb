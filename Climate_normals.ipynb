{
 "cells": [
  {
   "cell_type": "code",
   "execution_count": 1,
   "metadata": {},
   "outputs": [],
   "source": [
    "# Load packages\n",
    "import numpy as np\n",
    "import xarray as xr\n",
    "from pathlib import Path\n",
    "import cftime\n",
    "import pandas as pd\n",
    "from matplotlib import pyplot as plt\n",
    "import os, re"
   ]
  },
  {
   "cell_type": "code",
   "execution_count": 8,
   "metadata": {},
   "outputs": [],
   "source": [
    "# # Directory\n",
    "dir = '/home/p/peltier/mahdinia/scratch/wrf/MPIESM12HR_S37_na24_conus43-flk_2039/'\n",
    "# # Test with one nc\n",
    "# test = xr.open_dataset(dir+'wrfavg/wrfhydro_d01_monthly.nc',chunks={'time':-1},decode_times=False)\n",
    "# # Modify time to datetime64\n",
    "# test['time'] = pd.date_range(start='2039-01-01', periods=test.sizes['time'], freq='MS')"
   ]
  },
  {
   "cell_type": "code",
   "execution_count": 9,
   "metadata": {},
   "outputs": [],
   "source": [
    "# # Compute monthly normals\n",
    "# test_mon=test.groupby('time.month').mean('time').compute()"
   ]
  },
  {
   "cell_type": "code",
   "execution_count": 38,
   "metadata": {},
   "outputs": [],
   "source": [
    "def climate_normals(dir_input,dir_ouput=None):\n",
    "# Info for function \n",
    "    \"\"\"\n",
    "    Function:Compute monthly normals and create netcdf \n",
    "                from monthly average data\n",
    "                \n",
    "    Input arguments: directories as strings\n",
    "    \n",
    "    Output Directory:Current working directory/par_start_year/\n",
    "                        by default unless specified otherwise\n",
    "    \n",
    "    Input data: monthly average netcdf with dask\n",
    "    \n",
    "    Output data: monthly normals netcdf with dask\n",
    "    \"\"\"\n",
    "# Extract input info\n",
    "# start year\n",
    "    start_year=dir_input[-5:-1]\n",
    "# parameter\n",
    "    par_start=dir_input.find('wrf/')+4\n",
    "    par_end=dir_input.find(start_year)-1\n",
    "    par=dir_input[par_start:par_end]\n",
    "# Create output directory\n",
    "    if dir_ouput == None:\n",
    "        cwd=os.getcwd()\n",
    "        out_dir=cwd+'/'+par+'_'+start_year+'/'\n",
    "    else:\n",
    "        out_dir=dir_ouput+'/'+par+'_'+start_year+'/'\n",
    "    os.mkdir(out_dir)\n",
    "# Open datasets with dask\n",
    "    raw_data={file.stem :xr.open_dataset(file,chunks={'time':-1},decode_times=False) for file in Path(dir_input).glob('wrfavg/*monthly.nc')}\n",
    "# Compute monthly normals\n",
    "    for key in raw_data.keys():\n",
    "        data=raw_data[key]\n",
    "# # Convert time to datetime64\n",
    "        data['time'] = pd.date_range(start=start_year+'-01-01', periods=data.sizes['time'], freq='MS')\n",
    "        data_mon=data.groupby('time.month').mean('time')\n",
    "# Create netcdf for monthly normals\n",
    "        data_mon.to_netcdf(out_dir+'/'+key+'_mon_norm.nc')\n",
    "        print(out_dir,key,'done')\n"
   ]
  },
  {
   "cell_type": "code",
   "execution_count": 39,
   "metadata": {},
   "outputs": [
    {
     "name": "stdout",
     "output_type": "stream",
     "text": [
      "Help on function climate_normals in module __main__:\n",
      "\n",
      "climate_normals(dir_input, dir_ouput=None)\n",
      "    Function:Compute monthly normals and create netcdf \n",
      "                from monthly average data\n",
      "                \n",
      "    Input arguments: directories as strings\n",
      "    \n",
      "    Output Directory:Current working directory/par_start_year/\n",
      "                        by default unless specified otherwise\n",
      "    \n",
      "    Input data: monthly average netcdf with dask\n",
      "    \n",
      "    Output data: monthly normals netcdf with dask\n",
      "\n"
     ]
    }
   ],
   "source": [
    "help(climate_normals)"
   ]
  },
  {
   "cell_type": "code",
   "execution_count": null,
   "metadata": {},
   "outputs": [],
   "source": []
  }
 ],
 "metadata": {
  "kernelspec": {
   "display_name": "Python 3",
   "language": "python",
   "name": "python3"
  },
  "language_info": {
   "codemirror_mode": {
    "name": "ipython",
    "version": 3
   },
   "file_extension": ".py",
   "mimetype": "text/x-python",
   "name": "python",
   "nbconvert_exporter": "python",
   "pygments_lexer": "ipython3",
   "version": "3.8.5"
  }
 },
 "nbformat": 4,
 "nbformat_minor": 4
}
