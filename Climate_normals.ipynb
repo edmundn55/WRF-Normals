{
 "cells": [
  {
   "cell_type": "code",
   "execution_count": 1,
   "metadata": {},
   "outputs": [],
   "source": [
    "# Load packages\n",
    "import numpy as np\n",
    "import xarray as xr\n",
    "from pathlib import Path\n",
    "import cftime\n",
    "import pandas as pd\n",
    "from matplotlib import pyplot as plt\n",
    "import os, re"
   ]
  },
  {
   "cell_type": "code",
   "execution_count": 8,
   "metadata": {},
   "outputs": [],
   "source": [
    "# # Directory\n",
    "dir = '/home/p/peltier/mahdinia/scratch/wrf/MPIESM12HR_S37_na24_conus43-flk_2039/'\n",
    "# # Test with one nc\n",
    "# test = xr.open_dataset(dir+'wrfavg/wrfhydro_d01_monthly.nc',chunks={'time':-1},decode_times=False)\n",
    "# # Modify time to datetime64\n",
    "# test['time'] = pd.date_range(start='2039-01-01', periods=test.sizes['time'], freq='MS')"
   ]
  },
  {
   "cell_type": "code",
   "execution_count": 9,
   "metadata": {},
   "outputs": [],
   "source": [
    "# # Compute monthly normals\n",
    "# test_mon=test.groupby('time.month').mean('time').compute()"
   ]
  },
  {
   "cell_type": "code",
   "execution_count": 115,
   "metadata": {},
   "outputs": [],
   "source": [
    "def climate_normals(dir_input,dir_ouput=None):\n",
    "# Info for function \n",
    "    \"\"\"\n",
    "    Function:Compute monthly normals and create netcdf \n",
    "             from monthly average data\n",
    "                \n",
    "    Input arguments: directories as strings\n",
    "    \n",
    "    Output Directory:<Current working directory>/<pararmeter>/\n",
    "                     monthly_norm_<start year>/\n",
    "                     by default unless specified otherwise\n",
    "    \n",
    "    Input data: monthly average netcdf with dask\n",
    "    \n",
    "    Output data: monthly normals netcdf with dask\n",
    "    \"\"\"\n",
    "# Extract input info\n",
    "# start year\n",
    "    start_year=dir_input[-5:-1]\n",
    "# parameter\n",
    "    par_start=dir_input.find('wrf/')+4\n",
    "    par_end=dir_input.find(start_year)-1\n",
    "    par=dir_input[par_start:par_end]\n",
    "# Create output directory\n",
    "    if dir_ouput == None:\n",
    "# Use current working directory by default\n",
    "        cwd_start=os.getcwd().find('/home')\n",
    "        cwd=os.getcwd()\n",
    "        out_dir=os.path.join(cwd[cwd_start::],par+'/monthly_norm'+start_year)\n",
    "    else:\n",
    "        out_dir=os.path.join(dir_ouput,par+'/monthly_norm'+start_year)\n",
    "    os.makedirs(out_dir)\n",
    "# Open datasets with dask\n",
    "    raw_data={file.stem :xr.open_dataset(file,chunks={'time':-1},decode_times=False) for file in Path(dir_input).glob('wrfavg/*monthly.nc')}\n",
    "# Compute monthly normals\n",
    "    for key in raw_data.keys():\n",
    "        data=raw_data[key]\n",
    "# # Convert time to datetime64\n",
    "        data['time'] = pd.date_range(start=start_year+'-01-01', periods=data.sizes['time'], freq='MS')\n",
    "        data_mon=data.groupby('time.month').mean('time')\n",
    "# Create netcdf for monthly normals\n",
    "        data_mon.to_netcdf(out_dir+'/'+key+'_mon_norm.nc')\n",
    "        print(out_dir,key,'done')\n"
   ]
  },
  {
   "cell_type": "code",
   "execution_count": 116,
   "metadata": {},
   "outputs": [
    {
     "name": "stdout",
     "output_type": "stream",
     "text": [
      "Help on function climate_normals in module __main__:\n",
      "\n",
      "climate_normals(dir_input, dir_ouput=None)\n",
      "    Function:Compute monthly normals and create netcdf \n",
      "             from monthly average data\n",
      "                \n",
      "    Input arguments: directories as strings\n",
      "    \n",
      "    Output Directory:<Current working directory>/<pararmeter>/\n",
      "                     monthly_norm_<start year>/\n",
      "                     by default unless specified otherwise\n",
      "    \n",
      "    Input data: monthly average netcdf with dask\n",
      "    \n",
      "    Output data: monthly normals netcdf with dask\n",
      "\n"
     ]
    }
   ],
   "source": [
    "help(climate_normals)"
   ]
  },
  {
   "cell_type": "code",
   "execution_count": 117,
   "metadata": {},
   "outputs": [],
   "source": [
    "# Run all dirs\n",
    "dirs=[\n",
    "#     '/home/p/peltier/mahdinia/scratch/wrf/MPIESM12HR_S37_na24_conus43-flk_2079/',\n",
    "    '/home/p/peltier/mahdinia/scratch/wrf/MPIESM12HR_HS_na24_new43-flk_1979/',\n",
    "    '/home/p/peltier/mahdinia/scratch/wrf/MPIESM12HR_HS_na24_new43loc-flk_1979/'\n",
    "]"
   ]
  },
  {
   "cell_type": "code",
   "execution_count": null,
   "metadata": {},
   "outputs": [
    {
     "name": "stdout",
     "output_type": "stream",
     "text": [
      "/home/p/peltier/edmundn/climate_normals/MPIESM12HR_HS_na24_new43-flk/monthly_norm1979 wrfhydro_d01_monthly done\n"
     ]
    },
    {
     "name": "stderr",
     "output_type": "stream",
     "text": [
      "/local/jupyter2021/lib/python3.8/site-packages/dask/array/numpy_compat.py:41: RuntimeWarning: invalid value encountered in true_divide\n",
      "  x = np.divide(x1, x2, out)\n"
     ]
    }
   ],
   "source": [
    "for dir_a in dirs:\n",
    "    climate_normals(dir_a)\n",
    "    print(dir_a,'done')"
   ]
  },
  {
   "cell_type": "code",
   "execution_count": 101,
   "metadata": {},
   "outputs": [],
   "source": [
    "cwd=os.getcwd()\n",
    "par='test'"
   ]
  },
  {
   "cell_type": "code",
   "execution_count": 111,
   "metadata": {},
   "outputs": [],
   "source": [
    "parent=cwd[9::]\n",
    "parent\n",
    "new_dir=par+'_monthly_norm/'+par+'norm'"
   ]
  },
  {
   "cell_type": "code",
   "execution_count": 112,
   "metadata": {},
   "outputs": [],
   "source": [
    "os.makedirs(os.path.join(parent,new_dir))"
   ]
  },
  {
   "cell_type": "code",
   "execution_count": null,
   "metadata": {},
   "outputs": [],
   "source": []
  }
 ],
 "metadata": {
  "kernelspec": {
   "display_name": "Python 3",
   "language": "python",
   "name": "python3"
  },
  "language_info": {
   "codemirror_mode": {
    "name": "ipython",
    "version": 3
   },
   "file_extension": ".py",
   "mimetype": "text/x-python",
   "name": "python",
   "nbconvert_exporter": "python",
   "pygments_lexer": "ipython3",
   "version": "3.8.5"
  }
 },
 "nbformat": 4,
 "nbformat_minor": 4
}
