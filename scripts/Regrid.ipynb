{
 "cells": [
  {
   "cell_type": "code",
   "execution_count": 1,
   "metadata": {},
   "outputs": [],
   "source": [
    "# import packages\n",
    "import xesmf as xe\n",
    "import xarray as xr"
   ]
  },
  {
   "cell_type": "code",
   "execution_count": 2,
   "metadata": {},
   "outputs": [],
   "source": [
    "# function for grid parameter\n",
    "def grid_parameter(ds):\n",
    "    \"\"\"\n",
    "    Function: Build parameters for both input and output dataset if necessary\n",
    "    Inputs: \n",
    "    1. ds_in: path of input dataset (the one needs to be regridded) as string\n",
    "    Outputs:\n",
    "    1. Parameters: input grid, input dataset as string\n",
    "    \"\"\"\n",
    "    # for WRF dataset\n",
    "    if 'wrf' in ds:\n",
    "        grid = 'wrfna24'\n",
    "        name = 'WRF'\n",
    "    # for NRCan\n",
    "    elif 'nrcan' in ds:\n",
    "        grid = 'na12'\n",
    "        name = 'nrcan'\n",
    "    # for CERES\n",
    "    elif 'ceres' in ds:\n",
    "        grid = 'na111'\n",
    "        name = 'ceres'\n",
    "    # for Rutgers:\n",
    "    elif 'rutger' in ds:\n",
    "        grid = 'polar24'\n",
    "        name = 'rutger'\n",
    "    # for ERA5 Land\n",
    "    elif 'era5l' in ds:\n",
    "        grid = 'na10'\n",
    "        name = 'era5l'\n",
    "    # for ERA5 on pressure levels\n",
    "    elif 'era5plev' in ds:\n",
    "        grid = 'na28'\n",
    "        name = 'era5plev'\n",
    "    # for ERA5 on single levels\n",
    "    elif 'era5slev' in ds:\n",
    "        grid = 'na28'\n",
    "        name = 'era5slev'\n",
    "    # generate parameters\n",
    "    return grid, name"
   ]
  },
  {
   "cell_type": "code",
   "execution_count": null,
   "metadata": {},
   "outputs": [],
   "source": []
  }
 ],
 "metadata": {
  "kernelspec": {
   "display_name": "ccia_edmundn",
   "language": "python",
   "name": "ccia_edmundn"
  },
  "language_info": {
   "codemirror_mode": {
    "name": "ipython",
    "version": 3
   },
   "file_extension": ".py",
   "mimetype": "text/x-python",
   "name": "python",
   "nbconvert_exporter": "python",
   "pygments_lexer": "ipython3",
   "version": "3.11.9"
  }
 },
 "nbformat": 4,
 "nbformat_minor": 4
}
